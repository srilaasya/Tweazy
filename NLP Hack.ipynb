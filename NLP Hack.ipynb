{
 "cells": [
  {
   "cell_type": "code",
   "execution_count": 40,
   "id": "loaded-surgeon",
   "metadata": {},
   "outputs": [],
   "source": [
    "#Import libraries and twitter api auth"
   ]
  },
  {
   "cell_type": "code",
   "execution_count": 41,
   "id": "wrapped-proxy",
   "metadata": {},
   "outputs": [],
   "source": [
    "import tweepy\n",
    "import pandas as pd\n",
    "import numpy as np\n",
    "import re\n",
    "import matplotlib.pyplot as plt\n",
    "from wordcloud import WordCloud\n",
    "\n",
    "consumer_key = \"RKMVpR14mO3TlwByJlR4qn6EC\"\n",
    "consumer_secret = \"5NGVoen2OsRPsOyRO81McoRcL3Js4OTW4gqQqoMpJTthBixTRF\"\n",
    "access_token = \"1303429505256574976-GSvKgYTsiVIpsiGqjDlHArBnzWAtD9\"\n",
    "access_token_secret = \"guWxnIkqiTQiZf9Mn56cbhqKUXWKbrNT4vWmTue3bIAUE\"\n",
    "\n",
    "auth = tweepy.OAuthHandler(consumer_key, consumer_secret)\n",
    "auth.set_access_token(access_token, access_token_secret)\n",
    "\n",
    "api = tweepy.API(auth)"
   ]
  },
  {
   "cell_type": "code",
   "execution_count": 42,
   "id": "recent-danish",
   "metadata": {},
   "outputs": [],
   "source": [
    "#Obtaining Usernames"
   ]
  },
  {
   "cell_type": "code",
   "execution_count": 50,
   "id": "cardiac-female",
   "metadata": {
    "scrolled": true
   },
   "outputs": [],
   "source": [
    "public_tweets = api.home_timeline()\n",
    "\n",
    "df = pd.DataFrame( [re.findall(r'@[A-Za-z0-9\\w]+', tweet.text) for tweet in public_tweets], columns=['Tweets'])\n",
    "#print(df)"
   ]
  },
  {
   "cell_type": "code",
   "execution_count": 51,
   "id": "burning-keeping",
   "metadata": {},
   "outputs": [],
   "source": [
    "#Clean the df to obtain public usernames\n",
    "df = df.dropna()"
   ]
  },
  {
   "cell_type": "code",
   "execution_count": 52,
   "id": "musical-housing",
   "metadata": {},
   "outputs": [
    {
     "data": {
      "text/html": [
       "<div>\n",
       "<style scoped>\n",
       "    .dataframe tbody tr th:only-of-type {\n",
       "        vertical-align: middle;\n",
       "    }\n",
       "\n",
       "    .dataframe tbody tr th {\n",
       "        vertical-align: top;\n",
       "    }\n",
       "\n",
       "    .dataframe thead th {\n",
       "        text-align: right;\n",
       "    }\n",
       "</style>\n",
       "<table border=\"1\" class=\"dataframe\">\n",
       "  <thead>\n",
       "    <tr style=\"text-align: right;\">\n",
       "      <th></th>\n",
       "      <th>Tweets</th>\n",
       "    </tr>\n",
       "  </thead>\n",
       "  <tbody>\n",
       "    <tr>\n",
       "      <th>2</th>\n",
       "      <td>@Dr_ThomasZ</td>\n",
       "    </tr>\n",
       "    <tr>\n",
       "      <th>4</th>\n",
       "      <td>@POTUS</td>\n",
       "    </tr>\n",
       "    <tr>\n",
       "      <th>8</th>\n",
       "      <td>@GhadeerAbuoda</td>\n",
       "    </tr>\n",
       "    <tr>\n",
       "      <th>19</th>\n",
       "      <td>@YESBANK</td>\n",
       "    </tr>\n",
       "  </tbody>\n",
       "</table>\n",
       "</div>"
      ],
      "text/plain": [
       "            Tweets\n",
       "2      @Dr_ThomasZ\n",
       "4           @POTUS\n",
       "8   @GhadeerAbuoda\n",
       "19        @YESBANK"
      ]
     },
     "execution_count": 52,
     "metadata": {},
     "output_type": "execute_result"
    }
   ],
   "source": [
    "df"
   ]
  },
  {
   "cell_type": "code",
   "execution_count": null,
   "id": "metallic-environment",
   "metadata": {},
   "outputs": [],
   "source": []
  }
 ],
 "metadata": {
  "kernelspec": {
   "display_name": "Python 3",
   "language": "python",
   "name": "python3"
  },
  "language_info": {
   "codemirror_mode": {
    "name": "ipython",
    "version": 3
   },
   "file_extension": ".py",
   "mimetype": "text/x-python",
   "name": "python",
   "nbconvert_exporter": "python",
   "pygments_lexer": "ipython3",
   "version": "3.7.9"
  }
 },
 "nbformat": 4,
 "nbformat_minor": 5
}
